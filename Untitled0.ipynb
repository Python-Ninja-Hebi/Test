{
  "nbformat": 4,
  "nbformat_minor": 0,
  "metadata": {
    "colab": {
      "name": "Untitled0.ipynb",
      "provenance": [],
      "collapsed_sections": [],
      "authorship_tag": "ABX9TyMhfaXmdwZNCBHM/PH44jpl",
      "include_colab_link": true
    },
    "kernelspec": {
      "name": "python3",
      "display_name": "Python 3"
    }
  },
  "cells": [
    {
      "cell_type": "markdown",
      "metadata": {
        "id": "view-in-github",
        "colab_type": "text"
      },
      "source": [
        "<a href=\"https://colab.research.google.com/github/Python-Ninja-Hebi/Test/blob/master/Untitled0.ipynb\" target=\"_parent\"><img src=\"https://colab.research.google.com/assets/colab-badge.svg\" alt=\"Open In Colab\"/></a>"
      ]
    },
    {
      "cell_type": "markdown",
      "metadata": {
        "id": "kbgxo3fZD8tw",
        "colab_type": "text"
      },
      "source": [
        "# python"
      ]
    },
    {
      "cell_type": "markdown",
      "metadata": {
        "id": "lxQlguqkEHVd",
        "colab_type": "text"
      },
      "source": [
        ""
      ]
    },
    {
      "cell_type": "code",
      "metadata": {
        "id": "DL7jd9PRlVdh",
        "colab_type": "code",
        "outputId": "910e8793-3040-446c-a7cd-652117c8b012",
        "colab": {
          "base_uri": "https://localhost:8080/",
          "height": 34
        }
      },
      "source": [
        "a = 1 + 2\n",
        "a"
      ],
      "execution_count": 0,
      "outputs": [
        {
          "output_type": "execute_result",
          "data": {
            "text/plain": [
              "3"
            ]
          },
          "metadata": {
            "tags": []
          },
          "execution_count": 17
        }
      ]
    },
    {
      "cell_type": "code",
      "metadata": {
        "id": "XKYJ5NwHlaKc",
        "colab_type": "code",
        "outputId": "22ca8327-b9c8-4415-972e-c892b4f0456d",
        "colab": {
          "base_uri": "https://localhost:8080/",
          "height": 34
        }
      },
      "source": [
        "a = \"Hallo\"\n",
        "a"
      ],
      "execution_count": 0,
      "outputs": [
        {
          "output_type": "execute_result",
          "data": {
            "text/plain": [
              "'Hallo'"
            ]
          },
          "metadata": {
            "tags": []
          },
          "execution_count": 18
        }
      ]
    },
    {
      "cell_type": "markdown",
      "metadata": {
        "id": "essWn2lflRHW",
        "colab_type": "text"
      },
      "source": [
        ""
      ]
    },
    {
      "cell_type": "code",
      "metadata": {
        "id": "wTNA7mGjEUa3",
        "colab_type": "code",
        "colab": {}
      },
      "source": [
        "from os import mkdir, mknod\n",
        "\n",
        "folder = '/example_path/'\n",
        "mkdir(folder)\n",
        "mknod(folder + \"test1.png\")\n",
        "mknod(folder + \"test2.doc\")"
      ],
      "execution_count": 0,
      "outputs": []
    },
    {
      "cell_type": "code",
      "metadata": {
        "id": "ZGoaL-agFR5u",
        "colab_type": "code",
        "colab": {}
      },
      "source": [
        "from shutil import rmtree\n",
        "\n",
        "folder = '/example_path/'\n",
        "rmtree(folder)\n"
      ],
      "execution_count": 0,
      "outputs": []
    },
    {
      "cell_type": "code",
      "metadata": {
        "id": "w4-pf9iHEfea",
        "colab_type": "code",
        "outputId": "8a762a86-0f13-495b-bdbd-e5e2cb027dcb",
        "colab": {
          "base_uri": "https://localhost:8080/",
          "height": 68
        }
      },
      "source": [
        "from os import listdir, remove\n",
        "\n",
        "folder = '/example_path/'\n",
        "\n",
        "for file in listdir(folder):\n",
        "    print(file)\n",
        "    if file.endswith('.doc'):\n",
        "        remove(folder + file)\n",
        "        print(f\"{file} gelöscht\")"
      ],
      "execution_count": 0,
      "outputs": [
        {
          "output_type": "stream",
          "text": [
            "test1.png\n",
            "test2.doc\n",
            "test2.doc gelöscht\n"
          ],
          "name": "stdout"
        }
      ]
    },
    {
      "cell_type": "code",
      "metadata": {
        "id": "1adB3AnDHmm7",
        "colab_type": "code",
        "colab": {}
      },
      "source": [
        "def delete_files(folder, extension=\".tmp\"):\n",
        "  for file in listdir(folder):\n",
        "    print(file)\n",
        "    if file.endswith(extension):\n",
        "        remove(folder + file)\n",
        "        print(f\"{file} gelöscht\")"
      ],
      "execution_count": 0,
      "outputs": []
    },
    {
      "cell_type": "code",
      "metadata": {
        "id": "C6MHALc_l3RT",
        "colab_type": "code",
        "outputId": "6c5767f9-b2af-439a-f1d3-c778d3f5d0b8",
        "colab": {
          "base_uri": "https://localhost:8080/",
          "height": 68
        }
      },
      "source": [
        "delete_files(\"/example_path/\", \".doc\")"
      ],
      "execution_count": 0,
      "outputs": [
        {
          "output_type": "stream",
          "text": [
            "test1.png\n",
            "test2.doc\n",
            "test2.doc gelöscht\n"
          ],
          "name": "stdout"
        }
      ]
    },
    {
      "cell_type": "markdown",
      "metadata": {
        "id": "HHTNkAPamfVv",
        "colab_type": "text"
      },
      "source": [
        ""
      ]
    },
    {
      "cell_type": "code",
      "metadata": {
        "id": "-FAq529rmysJ",
        "colab_type": "code",
        "outputId": "1f66db3c-c66c-4859-d8d1-16696251cc2d",
        "colab": {
          "base_uri": "https://localhost:8080/",
          "height": 34
        }
      },
      "source": [
        "import numpy as np\n",
        "from matplotlib import pyplot as plot\n",
        "import pandas as pd\n",
        "\n",
        "liste = [78, 76, 66, 58]\n",
        "y = np.array(liste)\n",
        "y"
      ],
      "execution_count": 0,
      "outputs": [
        {
          "output_type": "execute_result",
          "data": {
            "text/plain": [
              "array([78, 76, 66, 58])"
            ]
          },
          "metadata": {
            "tags": []
          },
          "execution_count": 18
        }
      ]
    },
    {
      "cell_type": "code",
      "metadata": {
        "id": "0pNDLrBFqmMe",
        "colab_type": "code",
        "outputId": "dd703023-55a4-41f0-b051-90f48012cf1d",
        "colab": {
          "base_uri": "https://localhost:8080/",
          "height": 34
        }
      },
      "source": [
        "y.dtype"
      ],
      "execution_count": 0,
      "outputs": [
        {
          "output_type": "execute_result",
          "data": {
            "text/plain": [
              "dtype('int64')"
            ]
          },
          "metadata": {
            "tags": []
          },
          "execution_count": 2
        }
      ]
    },
    {
      "cell_type": "code",
      "metadata": {
        "id": "EqCCWuL2voXJ",
        "colab_type": "code",
        "outputId": "187032ab-5589-41d5-a017-0e02c29b1ec6",
        "colab": {
          "base_uri": "https://localhost:8080/",
          "height": 34
        }
      },
      "source": [
        "y/78 * 100"
      ],
      "execution_count": 0,
      "outputs": [
        {
          "output_type": "execute_result",
          "data": {
            "text/plain": [
              "array([100.        ,  97.43589744,  84.61538462,  74.35897436])"
            ]
          },
          "metadata": {
            "tags": []
          },
          "execution_count": 24
        }
      ]
    },
    {
      "cell_type": "code",
      "metadata": {
        "id": "Tefp1btsqrGQ",
        "colab_type": "code",
        "outputId": "79a8958f-c260-4dc2-a617-f0003aade582",
        "colab": {
          "base_uri": "https://localhost:8080/",
          "height": 34
        }
      },
      "source": [
        "x = np.array([\"FC Bayern\", \"BVB\", \"RB Leipzig\", \"Leverkusen\"])\n",
        "x"
      ],
      "execution_count": 0,
      "outputs": [
        {
          "output_type": "execute_result",
          "data": {
            "text/plain": [
              "array(['FC Bayern', 'BVB', 'RB Leipzig', 'Leverkusen'], dtype='<U10')"
            ]
          },
          "metadata": {
            "tags": []
          },
          "execution_count": 19
        }
      ]
    },
    {
      "cell_type": "code",
      "metadata": {
        "id": "Bm6M5xFQrI_1",
        "colab_type": "code",
        "outputId": "a2bdd343-3159-40f0-c3a6-f341b00dc7af",
        "colab": {
          "base_uri": "https://localhost:8080/",
          "height": 281
        }
      },
      "source": [
        "plot.title(\"Statistik\")\n",
        "plot.plot(x, y)\n",
        "plot.show()"
      ],
      "execution_count": 0,
      "outputs": [
        {
          "output_type": "display_data",
          "data": {
            "image/png": "[encoded data removed]",
            "text/plain": [
              "<Figure size 432x288 with 1 Axes>"
            ]
          },
          "metadata": {
            "tags": []
          }
        }
      ]
    },
    {
      "cell_type": "code",
      "metadata": {
        "id": "HBDjEbe6rVXY",
        "colab_type": "code",
        "outputId": "230c10bb-8f3e-4e5a-92bb-2a91d1cc97f7",
        "colab": {
          "base_uri": "https://localhost:8080/",
          "height": 265
        }
      },
      "source": [
        "plot.bar(x,y) \n",
        "plot.show()"
      ],
      "execution_count": 0,
      "outputs": [
        {
          "output_type": "display_data",
          "data": {
            "image/png": "[encoded data removed]",
            "text/plain": [
              "<Figure size 432x288 with 1 Axes>"
            ]
          },
          "metadata": {
            "tags": []
          }
        }
      ]
    },
    {
      "cell_type": "code",
      "metadata": {
        "id": "iE7l50aPsXKd",
        "colab_type": "code",
        "outputId": "0174d4ce-4501-4621-d757-0ef49a7b6479",
        "colab": {
          "base_uri": "https://localhost:8080/",
          "height": 173
        }
      },
      "source": [
        "d = pd.DataFrame({'Team' : x,\n",
        "                  'Punkte' : y}, index=[1,2,3,4])\n",
        "d"
      ],
      "execution_count": 0,
      "outputs": [
        {
          "output_type": "execute_result",
          "data": {
            "text/html": [
              "<div>\n",
              "<style scoped>\n",
              "    .dataframe tbody tr th:only-of-type {\n",
              "        vertical-align: middle;\n",
              "    }\n",
              "\n",
              "    .dataframe tbody tr th {\n",
              "        vertical-align: top;\n",
              "    }\n",
              "\n",
              "    .dataframe thead th {\n",
              "        text-align: right;\n",
              "    }\n",
              "</style>\n",
              "<table border=\"1\" class=\"dataframe\">\n",
              "  <thead>\n",
              "    <tr style=\"text-align: right;\">\n",
              "      <th></th>\n",
              "      <th>Team</th>\n",
              "      <th>Punkte</th>\n",
              "    </tr>\n",
              "  </thead>\n",
              "  <tbody>\n",
              "    <tr>\n",
              "      <th>1</th>\n",
              "      <td>FC Bayern</td>\n",
              "      <td>78</td>\n",
              "    </tr>\n",
              "    <tr>\n",
              "      <th>2</th>\n",
              "      <td>BVB</td>\n",
              "      <td>76</td>\n",
              "    </tr>\n",
              "    <tr>\n",
              "      <th>3</th>\n",
              "      <td>RB Leipzig</td>\n",
              "      <td>66</td>\n",
              "    </tr>\n",
              "    <tr>\n",
              "      <th>4</th>\n",
              "      <td>Leverkusen</td>\n",
              "      <td>58</td>\n",
              "    </tr>\n",
              "  </tbody>\n",
              "</table>\n",
              "</div>"
            ],
            "text/plain": [
              "         Team  Punkte\n",
              "1   FC Bayern      78\n",
              "2         BVB      76\n",
              "3  RB Leipzig      66\n",
              "4  Leverkusen      58"
            ]
          },
          "metadata": {
            "tags": []
          },
          "execution_count": 26
        }
      ]
    },
    {
      "cell_type": "code",
      "metadata": {
        "id": "SIJTeQpzt-HA",
        "colab_type": "code",
        "outputId": "43419b1b-f5eb-448f-d89e-e0e342b144c0",
        "colab": {
          "base_uri": "https://localhost:8080/",
          "height": 282
        }
      },
      "source": [
        "plot.barh(d.Team, d.Punkte)"
      ],
      "execution_count": 0,
      "outputs": [
        {
          "output_type": "execute_result",
          "data": {
            "text/plain": [
              "<BarContainer object of 4 artists>"
            ]
          },
          "metadata": {
            "tags": []
          },
          "execution_count": 27
        },
        {
          "output_type": "display_data",
          "data": {
            "image/png": "[encoded data removed]",
            "text/plain": [
              "<Figure size 432x288 with 1 Axes>"
            ]
          },
          "metadata": {
            "tags": []
          }
        }
      ]
    },
    {
      "cell_type": "code",
      "metadata": {
        "id": "6KOpB6a_uEmB",
        "colab_type": "code",
        "colab": {}
      },
      "source": [
        "class TeamPlot:\n",
        "  def __init__(self, team, punkte):\n",
        "    self.d = pd.DataFrame({'Team' : x,\n",
        "                           'Punkte' : y}, index=range(1,len(team)+1))\n",
        "  \n",
        "  def print(self):\n",
        "    print(self.d)\n",
        "  \n",
        "  def plot(self):\n",
        "    plot.title(\"Statistik\")\n",
        "    plot.barh(self.d.Team, self.d.Punkte)\n",
        "    plot.show()"
      ],
      "execution_count": 0,
      "outputs": []
    },
    {
      "cell_type": "code",
      "metadata": {
        "id": "oITpSK8AxzzD",
        "colab_type": "code",
        "colab": {}
      },
      "source": [
        "tp = TeamPlot(x, y)"
      ],
      "execution_count": 0,
      "outputs": []
    },
    {
      "cell_type": "code",
      "metadata": {
        "id": "qTZqFFi0x_Ey",
        "colab_type": "code",
        "outputId": "8231fe51-bb66-4579-fe12-375bea4bc5a3",
        "colab": {
          "base_uri": "https://localhost:8080/",
          "height": 102
        }
      },
      "source": [
        "tp.print()"
      ],
      "execution_count": 0,
      "outputs": [
        {
          "output_type": "stream",
          "text": [
            "         Team  Punkte\n",
            "1   FC Bayern      78\n",
            "2         BVB      76\n",
            "3  RB Leipzig      66\n",
            "4  Leverkusen      58\n"
          ],
          "name": "stdout"
        }
      ]
    },
    {
      "cell_type": "code",
      "metadata": {
        "id": "Zuu1HqmyyRaU",
        "colab_type": "code",
        "outputId": "f66c5166-e4f2-4ff9-c271-486496b87bc5",
        "colab": {
          "base_uri": "https://localhost:8080/",
          "height": 281
        }
      },
      "source": [
        "tp.plot()"
      ],
      "execution_count": 0,
      "outputs": [
        {
          "output_type": "display_data",
          "data": {
            "image/png": "[encoded data removed]",
            "text/plain": [
              "<Figure size 432x288 with 1 Axes>"
            ]
          },
          "metadata": {
            "tags": []
          }
        }
      ]
    },
    {
      "cell_type": "code",
      "metadata": {
        "id": "tNb6jrt9yphs",
        "colab_type": "code",
        "colab": {}
      },
      "source": [
        "import matplotlib.cm as cm\n",
        "\n",
        "class TeamPlotExt(TeamPlot):\n",
        "  def __init__(self, team, punkte):\n",
        "    super().__init__(team,punkte)\n",
        "    self.map = cm.get_cmap('jet')\n",
        "\n",
        "  def plot(self):\n",
        "      plot.title(\"Statistik\")\n",
        "      plot.barh(self.d.Team, self.d.Punkte, color=self.map(self.d.Punkte))\n",
        "      plot.show()\n",
        "  "
      ],
      "execution_count": 0,
      "outputs": []
    },
    {
      "cell_type": "code",
      "metadata": {
        "id": "3ZNXwDcCza2P",
        "colab_type": "code",
        "outputId": "7680ccea-903a-4431-9ab6-806a249f8f4b",
        "colab": {
          "base_uri": "https://localhost:8080/",
          "height": 281
        }
      },
      "source": [
        "tpe = TeamPlotExt(x,y)\n",
        "tpe.plot()"
      ],
      "execution_count": 0,
      "outputs": [
        {
          "output_type": "display_data",
          "data": {
            "image/png": "[encoded data removed]",
            "text/plain": [
              "<Figure size 432x288 with 1 Axes>"
            ]
          },
          "metadata": {
            "tags": []
          }
        }
      ]
    },
    {
      "cell_type": "code",
      "metadata": {
        "id": "GW3HuRSx2yx0",
        "colab_type": "code",
        "colab": {}
      },
      "source": [
        ""
      ],
      "execution_count": 0,
      "outputs": []
    }
  ]
}